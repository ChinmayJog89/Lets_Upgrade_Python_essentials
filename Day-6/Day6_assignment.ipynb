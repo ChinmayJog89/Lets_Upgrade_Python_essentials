{
 "cells": [
  {
   "cell_type": "markdown",
   "metadata": {},
   "source": [
    "# Question 1\n",
    "Create a bank account class that has two attributes:\n",
    "1. *ownerName\n",
    "2. *Balance\n",
    "\n",
    "And two methods\n",
    "1. *deposit\n",
    "2. *withdraw\n",
    "\n",
    "As an added requirement, withdrawals may not exceed the available balance.\n",
    "Instantiate your class, make several deposits and withdrawals and test to make sure the account\n",
    "cant be overdrawn."
   ]
  },
  {
   "cell_type": "code",
   "execution_count": 1,
   "metadata": {},
   "outputs": [],
   "source": [
    "class BankAccount:\n",
    "    def __init__(self,ownerName,balance):\n",
    "        self.name = ownerName\n",
    "        self.balance = balance\n",
    "    def info(self):\n",
    "        return(\"Hello {}, your balance is Rs. {}\" .format(self.name,self.balance))\n",
    "    def deposit(self, amount):\n",
    "        self.balance = self.balance + amount\n",
    "        return(\"Hello {}, your updated balance after depositing Rs. {} is: Rs. {}\" .format(self.name,amount,self.balance))\n",
    "    def withdraw(self, deduct):\n",
    "        if deduct > self.balance:\n",
    "            print(\"Withdrawal not possible\")\n",
    "        else:\n",
    "            self.balance = self.balance - deduct\n",
    "            print(\"Withdrawal of Rs. {} accepted. Your new balance is Rs. {}\" .format(deduct,self.balance))   "
   ]
  },
  {
   "cell_type": "code",
   "execution_count": 2,
   "metadata": {},
   "outputs": [
    {
     "name": "stdout",
     "output_type": "stream",
     "text": [
      "Hello Chinmay, your balance is Rs. 80000\n",
      "Hello Chinmay, your updated balance after depositing Rs. 6000 is: Rs. 86000\n",
      "Withdrawal of Rs. 50000 accepted. Your new balance is Rs. 36000\n",
      "None\n"
     ]
    }
   ],
   "source": [
    "b = BankAccount(\"Chinmay\",80000)\n",
    "print(b.info())\n",
    "print(b.deposit(6000))\n",
    "print(b.withdraw(50000))"
   ]
  },
  {
   "cell_type": "markdown",
   "metadata": {},
   "source": [
    "# Question 2\n",
    "Create a cone class that has two attributes:\n",
    "1. *R=Radius\n",
    "2. *h=Height\n",
    "\n",
    "And two methods:\n",
    "1. *Volume = Π * r2 * (h/3)\n",
    "2. *Surface area : base : Π * r2 , side : Π * r * √(r2 + h2)\n",
    "\n",
    "Make only one class with functions. (Import Math whenever required)"
   ]
  },
  {
   "cell_type": "code",
   "execution_count": 3,
   "metadata": {},
   "outputs": [],
   "source": [
    "import math as m\n",
    "class Cone:\n",
    "    def __init__(self, radius, height):\n",
    "        self.r = radius\n",
    "        self.h = height\n",
    "    def volume(self):\n",
    "        vol = (m.pi)*(self.r**2)*(self.h)\n",
    "        print(\"Volume of the cone is: {:.2f} cubic units\" .format(vol))\n",
    "    def surface_area(self):\n",
    "        sa_base = (m.pi)*(self.r**2)\n",
    "        sa_side = (m.pi)*(self.r)*(m.sqrt(self.r**2 + self.h**2))\n",
    "        sa_cone = sa_base + sa_side\n",
    "        print(\"Surface Area of the cone is: {:.2f} square units\" .format(sa_cone))"
   ]
  },
  {
   "cell_type": "code",
   "execution_count": 4,
   "metadata": {},
   "outputs": [
    {
     "name": "stdout",
     "output_type": "stream",
     "text": [
      "Volume of the cone is: 141.37 cubic units\n",
      "Surface Area of the cone is: 83.23 square units\n"
     ]
    }
   ],
   "source": [
    "c = Cone(3,5)\n",
    "c.volume()\n",
    "c.surface_area()"
   ]
  }
 ],
 "metadata": {
  "kernelspec": {
   "display_name": "Python 3",
   "language": "python",
   "name": "python3"
  },
  "language_info": {
   "codemirror_mode": {
    "name": "ipython",
    "version": 3
   },
   "file_extension": ".py",
   "mimetype": "text/x-python",
   "name": "python",
   "nbconvert_exporter": "python",
   "pygments_lexer": "ipython3",
   "version": "3.7.4"
  }
 },
 "nbformat": 4,
 "nbformat_minor": 2
}
